{
 "cells": [
  {
   "cell_type": "code",
   "execution_count": 15,
   "id": "cbb3a26d",
   "metadata": {},
   "outputs": [],
   "source": [
    "import getpass\n",
    "  \n",
    "\n",
    "class OnlineTicketBooking:\n",
    "    \n",
    "    def __init__(self):\n",
    "        print(\"Please sign up: \")\n",
    "        print()\n",
    "        self.name = input(\"Enter your full name: \")\n",
    "        self.email = input(\"Enter your email: \")\n",
    "        self.__password = getpass.getpass(\"Enter your password: \")\n",
    "        self.phone = input(\"Enter your phone: \")\n",
    "        self.nationalid = input(\"Enter your national ID: \")\n",
    "        print(\"Sign up successful.\")\n",
    "    \n",
    "    \n",
    "    def check_email_and_password(self):\n",
    "        user_email = input(\"Enter your email: \")\n",
    "        user_password = getpass.getpass(\"Enter your password: \")\n",
    "        if user_email == self.email and user_password == self.__password:\n",
    "             return True\n",
    "        else:\n",
    "            return False\n",
    "        \n",
    "\n",
    "    \n",
    "\n",
    "    def sign_in(self):\n",
    "        print(\"Please sign in: \")\n",
    "        if self.check_email_and_password() == True:\n",
    "            print(\"Successfully logged in\")\n",
    "        else:\n",
    "            print(\"Your email or password is wrong, please try again\")\n",
    "            \n",
    "            \n",
    "\n",
    "    def event_and_venue_selection(self):\n",
    "        event_list = {\n",
    "            'Music concerts': ['Stadiums', 'Arenas', 'Theaters', 'Concert halls'],\n",
    "            'Art exhibitions': ['Art galleries', 'Museums', 'Cultural centers'],\n",
    "            'Sporting events': ['Sports facilities', 'Stadiums'],\n",
    "            'Theater productions': ['Theaters', 'Auditoriums'],\n",
    "            'Film screenings': ['Cinemas', 'Screening rooms'],\n",
    "            'Dance performances': ['Dance studios', 'Theaters'],\n",
    "            'Comedy shows': ['Comedy clubs', 'Theaters'],\n",
    "            'Conferences and seminars': ['Convention centers', 'Hotels with conference facilities']\n",
    "        }\n",
    "        print(list(event_list.keys()))\n",
    "        chosen_event = input(\"Choose an event from the following options: \")\n",
    "        if chosen_event in event_list:\n",
    "            print(\"The venue list: \", event_list[chosen_event])\n",
    "            chose_the_venue = input(\"Pick the venue of the event: \")\n",
    "        else:\n",
    "            print(\"Invalid event selection. Please choose from the available events.\")\n",
    "\n",
    "\n",
    "            \n",
    "    def seat_selection(self):\n",
    "        seat_list = ['VIP', 'Premium', 'Standard', 'Economy']\n",
    "        print(\"Available seats: \", seat_list)\n",
    "        seat = input(\"Enter the name of the seat to select: \")\n",
    "        if seat in seat_list:\n",
    "            print(\"You have selected the\", seat, \"seat.\")\n",
    "        else:\n",
    "            print(\"Invalid seat selection. Please choose from the available seats: \", seat_list)\n",
    "            self.seat_selection()\n",
    "\n",
    "            \n",
    "            \n",
    "    def payment(self):\n",
    "        payment_options = [\"Credit or Debit Card\", \"Mobile Payment\", \"Internet Banking\", \"E-Wallets\", \"Cryptocurrency\", \"Cash-on-Delivery\"]\n",
    "        print(payment_options)\n",
    "        payment_choice = input(\"How would you like to pay for the ticket?\")\n",
    "        print(\"You have chosen to pay with\", payment_choice)\n",
    "\n",
    "        \n",
    "        \n",
    "    def payment_confirmation(self):\n",
    "        print(\"Check your message or email with the ticket details.\")\n",
    "        confirm = input(\"Do you want to proceed with the payment? (y/n): \")\n",
    "        if confirm == \"y\":\n",
    "            print(\"Payment successful.\")\n",
    "        else:\n",
    "            print(\"Payment cancelled.\")\n",
    "            \n",
    "            \n",
    "\n",
    "    def cancellation_or_refund(self):\n",
    "        choos = input(\"Enter 'Y' for canceling or 'N' to confirm the ticket: \")\n",
    "        if choos.upper() == \"Y\":\n",
    "            print(\"If you want to cancel and refund the event, please follow these steps or skip\")\n",
    "            \n",
    "            if self.check_email_and_password() == True:\n",
    "                print(\"Successfully logged in.\")\n",
    "                print(\"Please send an email to cancel or refund your ticket to: support@ticketbooking.com\")\n",
    "                print(\"You can also call us at the following numbers:\")\n",
    "                print(\"- Customer support: 012545654848\")\n",
    "                print(\"- Sales department: 01112458785\")\n",
    "                print(\"- Billing and refunds: 01548557878\")\n",
    "            else:\n",
    "                print(\"Your email or password is wrong. Please try again.\")\n",
    "                self.cancellation_or_refund()\n",
    "        elif choos.upper() == \"N\":\n",
    "            print(\"Your ticket is confirmed successfully.\")\n",
    "        else:\n",
    "            print(\"Invalid input. Please enter 'Y' for canceling or 'N' to confirm the ticket.\")\n",
    "            self.cancellation_or_refund()\n",
    "\n"
   ]
  },
  {
   "cell_type": "code",
   "execution_count": 16,
   "id": "2e6781c7",
   "metadata": {},
   "outputs": [
    {
     "name": "stdout",
     "output_type": "stream",
     "text": [
      "Please sign up: \n",
      "\n",
      "Enter your full name: Moaaz Hammad\n",
      "Enter your email: m\n",
      "Enter your password: ········\n",
      "Enter your phone: 123\n",
      "Enter your national ID: 123\n",
      "Sign up successful.\n"
     ]
    }
   ],
   "source": [
    "user = OnlineTicketBooking()"
   ]
  },
  {
   "cell_type": "code",
   "execution_count": 17,
   "id": "736f01d0",
   "metadata": {},
   "outputs": [
    {
     "name": "stdout",
     "output_type": "stream",
     "text": [
      "Please sign in: \n",
      "Enter your email: m\n",
      "Enter your password: ········\n",
      "Successfully logged in\n"
     ]
    }
   ],
   "source": [
    "user.sign_in()"
   ]
  },
  {
   "cell_type": "code",
   "execution_count": 18,
   "id": "1d7e2c16",
   "metadata": {},
   "outputs": [
    {
     "name": "stdout",
     "output_type": "stream",
     "text": [
      "['Music concerts', 'Art exhibitions', 'Sporting events', 'Theater productions', 'Film screenings', 'Dance performances', 'Comedy shows', 'Conferences and seminars']\n",
      "Choose an event from the following options: Sporting events\n",
      "The venue list:  ['Sports facilities', 'Stadiums']\n",
      "Pick the venue of the event: Stadiums\n"
     ]
    }
   ],
   "source": [
    "user.event_and_venue_selection()"
   ]
  },
  {
   "cell_type": "code",
   "execution_count": 19,
   "id": "dc6350ce",
   "metadata": {},
   "outputs": [
    {
     "name": "stdout",
     "output_type": "stream",
     "text": [
      "Available seats:  ['VIP', 'Premium', 'Standard', 'Economy']\n",
      "Enter the name of the seat to select: VIP\n",
      "You have selected the VIP seat.\n"
     ]
    }
   ],
   "source": [
    "user.seat_selection()"
   ]
  },
  {
   "cell_type": "code",
   "execution_count": 20,
   "id": "fe1fb7a4",
   "metadata": {},
   "outputs": [
    {
     "name": "stdout",
     "output_type": "stream",
     "text": [
      "['Credit or Debit Card', 'Mobile Payment', 'Internet Banking', 'E-Wallets', 'Cryptocurrency', 'Cash-on-Delivery']\n",
      "How would you like to pay for the ticket?E-Wallets\n",
      "You have chosen to pay with E-Wallets\n"
     ]
    }
   ],
   "source": [
    "user.payment()"
   ]
  },
  {
   "cell_type": "code",
   "execution_count": 13,
   "id": "0c2f4e54",
   "metadata": {},
   "outputs": [
    {
     "name": "stdout",
     "output_type": "stream",
     "text": [
      "Check your message or email with the ticket details.\n",
      "Do you want to proceed with the payment? (y/n): y\n",
      "Payment successful.\n"
     ]
    }
   ],
   "source": [
    "user.payment_confirmation()"
   ]
  },
  {
   "cell_type": "code",
   "execution_count": 21,
   "id": "e16cef71",
   "metadata": {},
   "outputs": [
    {
     "name": "stdout",
     "output_type": "stream",
     "text": [
      "Enter 'Y' for canceling or 'N' to confirm the ticket: y\n",
      "If you want to cancel and refund the event, please follow these steps or skip\n",
      "Enter your email: m\n",
      "Enter your password: ········\n",
      "Successfully logged in.\n",
      "Please send an email to cancel or refund your ticket to: support@ticketbooking.com\n",
      "You can also call us at the following numbers:\n",
      "- Customer support: 012545654848\n",
      "- Sales department: 01112458785\n",
      "- Billing and refunds: 01548557878\n"
     ]
    }
   ],
   "source": [
    "user.cancellation_or_refund()"
   ]
  },
  {
   "cell_type": "code",
   "execution_count": null,
   "id": "f4b00114",
   "metadata": {},
   "outputs": [],
   "source": []
  }
 ],
 "metadata": {
  "kernelspec": {
   "display_name": "Python 3 (ipykernel)",
   "language": "python",
   "name": "python3"
  },
  "language_info": {
   "codemirror_mode": {
    "name": "ipython",
    "version": 3
   },
   "file_extension": ".py",
   "mimetype": "text/x-python",
   "name": "python",
   "nbconvert_exporter": "python",
   "pygments_lexer": "ipython3",
   "version": "3.9.13"
  }
 },
 "nbformat": 4,
 "nbformat_minor": 5
}
